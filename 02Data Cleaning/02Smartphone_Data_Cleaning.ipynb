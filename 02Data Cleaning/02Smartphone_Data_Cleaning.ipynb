{
 "cells": [
  {
   "cell_type": "code",
   "execution_count": 1,
   "id": "2da20bde-2671-4a99-8cf7-d34b5ef7f2ed",
   "metadata": {},
   "outputs": [],
   "source": [
    "import pandas as pd \n",
    "import numpy as np\n",
    "import matplotlib.pyplot as plt\n",
    "import seaborn as sns"
   ]
  },
  {
   "cell_type": "code",
   "execution_count": 2,
   "id": "965821ba-dbd4-41e2-a64e-7cc4a549135e",
   "metadata": {},
   "outputs": [],
   "source": [
    "df = pd.read_csv(\"Smartphone_cleaned_v2.csv\")"
   ]
  },
  {
   "cell_type": "code",
   "execution_count": 3,
   "id": "de1f70bf-aeec-4548-bf43-33a82bfd3ecb",
   "metadata": {},
   "outputs": [
    {
     "name": "stdout",
     "output_type": "stream",
     "text": [
      "<class 'pandas.core.frame.DataFrame'>\n",
      "RangeIndex: 1014 entries, 0 to 1013\n",
      "Data columns (total 24 columns):\n",
      " #   Column                    Non-Null Count  Dtype  \n",
      "---  ------                    --------------  -----  \n",
      " 0   Brand_name                1014 non-null   object \n",
      " 1   Model                     1014 non-null   object \n",
      " 2   Price                     1014 non-null   int64  \n",
      " 3   Rating                    1014 non-null   int64  \n",
      " 4   Has_5G                    1014 non-null   bool   \n",
      " 5   Has_NFC                   1014 non-null   bool   \n",
      " 6   Has_IR_Blaster            1014 non-null   bool   \n",
      " 7   Processor                 1014 non-null   object \n",
      " 8   Processor_brand           1014 non-null   object \n",
      " 9   num_cores                 1014 non-null   object \n",
      " 10  Processor_speed(GHz)      982 non-null    float64\n",
      " 11  Ram_capacity              1014 non-null   float64\n",
      " 12  Internal_storage          1014 non-null   int64  \n",
      " 13  Battery_capacity(mAh)     1014 non-null   float64\n",
      " 14  Fast_charging(W)          1014 non-null   int64  \n",
      " 15  Screen_size(inches)       1014 non-null   float64\n",
      " 16  Resolution(px)            1014 non-null   object \n",
      " 17  Refresh_rate(Hz)          1014 non-null   float64\n",
      " 18  Num_rear_cameras          1014 non-null   int64  \n",
      " 19  Num_front_cameras         1014 non-null   float64\n",
      " 20  Primary_rear_camera(MP)   1014 non-null   object \n",
      " 21  Primary_front_camera(MP)  1014 non-null   float64\n",
      " 22  OS                        1014 non-null   object \n",
      " 23  Extended_memory           1014 non-null   object \n",
      "dtypes: bool(3), float64(7), int64(5), object(9)\n",
      "memory usage: 169.5+ KB\n"
     ]
    }
   ],
   "source": [
    "df.info()"
   ]
  },
  {
   "cell_type": "markdown",
   "id": "5efd6ce7-90b4-4b0e-ad28-721ee16fc5ff",
   "metadata": {},
   "source": [
    "# Handling missing values and outliers"
   ]
  },
  {
   "cell_type": "code",
   "execution_count": 33,
   "id": "0daa1317-e89c-49fa-8462-8899444d1434",
   "metadata": {},
   "outputs": [],
   "source": [
    "df['Ram_capacity'] = df['Ram_capacity'].str.replace(\"GB\",\"\").astype(float)"
   ]
  },
  {
   "cell_type": "code",
   "execution_count": 34,
   "id": "662026d5-4f6c-4003-baf7-5fb9c9dcd949",
   "metadata": {},
   "outputs": [],
   "source": [
    "df['Internal_storage'] = df['Internal_storage'].str.replace('1 TB','1024').str.replace(\"GB\",\"\").str.replace(\"\\u2009GB\",\"\").str.replace(\"\\u2009TB\",\"\").astype(int)"
   ]
  },
  {
   "cell_type": "code",
   "execution_count": 35,
   "id": "44d1b632-a262-4c36-94f1-749461762b07",
   "metadata": {},
   "outputs": [],
   "source": [
    "temp_df = df[df['Internal_storage'] == 1]"
   ]
  },
  {
   "cell_type": "code",
   "execution_count": 36,
   "id": "d4485afe-0ea7-40b0-818d-cd9ca340daf4",
   "metadata": {},
   "outputs": [],
   "source": [
    "df.loc[temp_df.index,['Internal_storage']] = 1024"
   ]
  },
  {
   "cell_type": "code",
   "execution_count": 30,
   "id": "00a6a5d8-9d4f-4c6d-8a7d-dde7a1b4201a",
   "metadata": {},
   "outputs": [],
   "source": [
    "df['Internal_storage'].value_counts()"
   ]
  },
  {
   "cell_type": "code",
   "execution_count": 32,
   "id": "6e921610-3c1d-4e6e-9116-0f5a776bee21",
   "metadata": {},
   "outputs": [],
   "source": [
    "df.to_csv(\"Smartphone_cleaned_v2.csv\",index=False)"
   ]
  },
  {
   "cell_type": "code",
   "execution_count": 50,
   "id": "81192db4-8681-41cd-b843-128bb4c9efb4",
   "metadata": {},
   "outputs": [],
   "source": [
    "df['Processor_brand'] = df['Processor_brand'].str.replace(\"helio\",\"mediatek\").str.replace(\"dimensity\",\"mediatek\").str.replace(\"dimensit\",\"mediatek\").str.replace(\"google\",\"tensor\").str.replace(\"a13\",\"bionic\")"
   ]
  },
  {
   "cell_type": "code",
   "execution_count": 51,
   "id": "c25f3093-8bea-494b-b7e0-562868df9d32",
   "metadata": {},
   "outputs": [],
   "source": [
    "df.to_csv(\"Smartphone_cleaned_v2.csv\",index=False)"
   ]
  },
  {
   "cell_type": "code",
   "execution_count": 54,
   "id": "015a3455-83af-4b3d-a28d-41652d6dd039",
   "metadata": {},
   "outputs": [],
   "source": [
    "df['Processor_brand'].value_counts()"
   ]
  },
  {
   "cell_type": "code",
   "execution_count": 55,
   "id": "04758899-adc0-4632-9fae-a3a2420d112b",
   "metadata": {},
   "outputs": [
    {
     "data": {
      "text/plain": [
       "Brand_name                   0\n",
       "Model                        0\n",
       "Price                        0\n",
       "Rating                       0\n",
       "Has_5G                       0\n",
       "Has_NFC                      0\n",
       "Has_IR_Blaster               0\n",
       "Processor                    5\n",
       "Processor_brand              5\n",
       "num_cores                    3\n",
       "Processor_speed(GHz)        32\n",
       "Ram_capacity                 3\n",
       "Internal_storage             0\n",
       "Battery_capacity(mAh)        2\n",
       "Fast_charging(W)             0\n",
       "Screen_size(inches)          0\n",
       "Resolution(px)               1\n",
       "Refresh_rate(Hz)             0\n",
       "Num_rear_cameras             0\n",
       "Num_front_cameras            1\n",
       "Primary_rear_camera(MP)      0\n",
       "Primary_front_camera(MP)     1\n",
       "OS                          21\n",
       "Extended_memory              0\n",
       "dtype: int64"
      ]
     },
     "execution_count": 55,
     "metadata": {},
     "output_type": "execute_result"
    }
   ],
   "source": [
    "df.isnull().sum()"
   ]
  },
  {
   "cell_type": "code",
   "execution_count": 92,
   "id": "2b65e193-fb75-48ed-8226-3a8983cb6c34",
   "metadata": {},
   "outputs": [],
   "source": [
    "df.drop(695,inplace=True)"
   ]
  },
  {
   "cell_type": "code",
   "execution_count": 93,
   "id": "7c9bd675-c6d1-43c0-89c0-28743cc9da4a",
   "metadata": {},
   "outputs": [],
   "source": [
    "df['OS'] = df['OS'].fillna(\"Android\") # By reserching"
   ]
  },
  {
   "cell_type": "code",
   "execution_count": 94,
   "id": "970ab44b-26d2-4625-a96a-7921547e89ce",
   "metadata": {},
   "outputs": [],
   "source": [
    "df['Ram_capacity'] = df['Ram_capacity'].fillna(8) # By researching"
   ]
  },
  {
   "cell_type": "code",
   "execution_count": 95,
   "id": "117e37d1-9713-4e70-a39d-8a328ef47770",
   "metadata": {},
   "outputs": [],
   "source": [
    "df.loc[689,['Processor']]= 'ARM'\n",
    "df.loc[689,['Processor_brand']]= 'arm'"
   ]
  },
  {
   "cell_type": "code",
   "execution_count": 96,
   "id": "0767cfd7-c411-4f0b-b6b3-7255c405c997",
   "metadata": {},
   "outputs": [],
   "source": [
    "df.loc[[693,697],['Processor']]= 'UNISOC T603'\n",
    "df.loc[[693,697],['Processor_brand']]= 'unisoc'"
   ]
  },
  {
   "cell_type": "code",
   "execution_count": 97,
   "id": "0825d8e7-852d-4562-a269-81a274b3a0d6",
   "metadata": {},
   "outputs": [],
   "source": [
    "df.loc[[701,799],['Processor']]= 'UNISOC SC9863A'\n",
    "df.loc[[701,799],['Processor_brand']]= 'unisoc'"
   ]
  },
  {
   "cell_type": "code",
   "execution_count": 98,
   "id": "be7e060f-bcdb-438c-ad2b-c77547c09cf8",
   "metadata": {},
   "outputs": [],
   "source": [
    "df['num_cores'] = df['num_cores'].fillna(\"Octa Core\")"
   ]
  },
  {
   "cell_type": "code",
   "execution_count": 99,
   "id": "1c119250-0c36-43ce-bcf5-787aa6dba31f",
   "metadata": {},
   "outputs": [],
   "source": [
    "df.drop(696, inplace=True)"
   ]
  },
  {
   "cell_type": "code",
   "execution_count": 89,
   "id": "dcbae58d-1d3d-487a-ae4a-d8a22fb19bda",
   "metadata": {},
   "outputs": [],
   "source": [
    "sns.boxplot(df['Processor_speed(GHz)'] )"
   ]
  },
  {
   "cell_type": "code",
   "execution_count": 87,
   "id": "b917c55f-003c-4132-8e1e-ff53b23b0c8f",
   "metadata": {},
   "outputs": [],
   "source": [
    "df['Battery_capacity(mAh)'] = df['Battery_capacity(mAh)'].fillna(2815)"
   ]
  },
  {
   "cell_type": "code",
   "execution_count": 88,
   "id": "1bc22ba9-6438-4682-9aad-0c7b13b01ff0",
   "metadata": {},
   "outputs": [],
   "source": [
    "df.to_csv(\"Smartphone_cleaned_v2.csv\",index=False)"
   ]
  },
  {
   "cell_type": "code",
   "execution_count": null,
   "id": "45487e31-a6c4-438d-a832-9d336938a01c",
   "metadata": {},
   "outputs": [],
   "source": []
  },
  {
   "cell_type": "code",
   "execution_count": null,
   "id": "ea38ead5-0a66-4d65-8a6f-01877eb04ad9",
   "metadata": {},
   "outputs": [],
   "source": []
  },
  {
   "cell_type": "code",
   "execution_count": 84,
   "id": "7ab02778-e44d-4d10-996a-ede8c56c9e9b",
   "metadata": {},
   "outputs": [
    {
     "data": {
      "text/html": [
       "<div>\n",
       "<style scoped>\n",
       "    .dataframe tbody tr th:only-of-type {\n",
       "        vertical-align: middle;\n",
       "    }\n",
       "\n",
       "    .dataframe tbody tr th {\n",
       "        vertical-align: top;\n",
       "    }\n",
       "\n",
       "    .dataframe thead th {\n",
       "        text-align: right;\n",
       "    }\n",
       "</style>\n",
       "<table border=\"1\" class=\"dataframe\">\n",
       "  <thead>\n",
       "    <tr style=\"text-align: right;\">\n",
       "      <th></th>\n",
       "      <th>Brand_name</th>\n",
       "      <th>Model</th>\n",
       "      <th>Price</th>\n",
       "      <th>Rating</th>\n",
       "      <th>Has_5G</th>\n",
       "      <th>Has_NFC</th>\n",
       "      <th>Has_IR_Blaster</th>\n",
       "      <th>Processor</th>\n",
       "      <th>Processor_brand</th>\n",
       "      <th>num_cores</th>\n",
       "      <th>Processor_speed(GHz)</th>\n",
       "      <th>Ram_capacity</th>\n",
       "      <th>Internal_storage</th>\n",
       "      <th>Battery_capacity(mAh)</th>\n",
       "      <th>Fast_charging(W)</th>\n",
       "      <th>Screen_size(inches)</th>\n",
       "      <th>Resolution(px)</th>\n",
       "      <th>Refresh_rate(Hz)</th>\n",
       "      <th>Num_rear_cameras</th>\n",
       "      <th>Num_front_cameras</th>\n",
       "      <th>Primary_rear_camera(MP)</th>\n",
       "      <th>Primary_front_camera(MP)</th>\n",
       "      <th>OS</th>\n",
       "      <th>Extended_memory</th>\n",
       "    </tr>\n",
       "  </thead>\n",
       "  <tbody>\n",
       "    <tr>\n",
       "      <th>0</th>\n",
       "      <td>realme</td>\n",
       "      <td>Realme P4 Pro 5G</td>\n",
       "      <td>24999</td>\n",
       "      <td>73</td>\n",
       "      <td>True</td>\n",
       "      <td>False</td>\n",
       "      <td>True</td>\n",
       "      <td>Snapdragon 7 Gen 4</td>\n",
       "      <td>snapdragon</td>\n",
       "      <td>Octa Core</td>\n",
       "      <td>NaN</td>\n",
       "      <td>8.0</td>\n",
       "      <td>128</td>\n",
       "      <td>7000.0</td>\n",
       "      <td>80</td>\n",
       "      <td>6.80</td>\n",
       "      <td>1280 x 2800</td>\n",
       "      <td>144.0</td>\n",
       "      <td>2</td>\n",
       "      <td>1.0</td>\n",
       "      <td>50</td>\n",
       "      <td>50.0</td>\n",
       "      <td>Android</td>\n",
       "      <td>0</td>\n",
       "    </tr>\n",
       "    <tr>\n",
       "      <th>1</th>\n",
       "      <td>realme</td>\n",
       "      <td>Realme P4 5G</td>\n",
       "      <td>18499</td>\n",
       "      <td>77</td>\n",
       "      <td>True</td>\n",
       "      <td>False</td>\n",
       "      <td>True</td>\n",
       "      <td>Dimensity 7400 Ultra</td>\n",
       "      <td>mediatek</td>\n",
       "      <td>Octa Core</td>\n",
       "      <td>2.6</td>\n",
       "      <td>6.0</td>\n",
       "      <td>128</td>\n",
       "      <td>7000.0</td>\n",
       "      <td>80</td>\n",
       "      <td>6.77</td>\n",
       "      <td>1080 x 2392</td>\n",
       "      <td>144.0</td>\n",
       "      <td>2</td>\n",
       "      <td>1.0</td>\n",
       "      <td>50</td>\n",
       "      <td>16.0</td>\n",
       "      <td>Android</td>\n",
       "      <td>0</td>\n",
       "    </tr>\n",
       "  </tbody>\n",
       "</table>\n",
       "</div>"
      ],
      "text/plain": [
       "  Brand_name             Model  Price  Rating  Has_5G  Has_NFC  \\\n",
       "0     realme  Realme P4 Pro 5G  24999      73    True    False   \n",
       "1     realme      Realme P4 5G  18499      77    True    False   \n",
       "\n",
       "   Has_IR_Blaster             Processor Processor_brand  num_cores  \\\n",
       "0            True    Snapdragon 7 Gen 4      snapdragon  Octa Core   \n",
       "1            True  Dimensity 7400 Ultra        mediatek  Octa Core   \n",
       "\n",
       "   Processor_speed(GHz)  Ram_capacity  Internal_storage  \\\n",
       "0                   NaN           8.0               128   \n",
       "1                   2.6           6.0               128   \n",
       "\n",
       "   Battery_capacity(mAh)  Fast_charging(W)  Screen_size(inches)  \\\n",
       "0                 7000.0                80                 6.80   \n",
       "1                 7000.0                80                 6.77   \n",
       "\n",
       "  Resolution(px)  Refresh_rate(Hz)  Num_rear_cameras  Num_front_cameras  \\\n",
       "0   1280 x 2800              144.0                 2                1.0   \n",
       "1   1080 x 2392              144.0                 2                1.0   \n",
       "\n",
       "  Primary_rear_camera(MP)  Primary_front_camera(MP)       OS Extended_memory  \n",
       "0                     50                       50.0  Android               0  \n",
       "1                     50                       16.0  Android               0  "
      ]
     },
     "execution_count": 84,
     "metadata": {},
     "output_type": "execute_result"
    }
   ],
   "source": [
    "df = pd.read_csv(\"Smartphone_cleaned_v2.csv\")\n",
    "df.head(2)"
   ]
  },
  {
   "cell_type": "code",
   "execution_count": 85,
   "id": "cb6ac737-5b47-48d3-a348-ffa1a07edd75",
   "metadata": {},
   "outputs": [
    {
     "data": {
      "text/plain": [
       "Brand_name                   0\n",
       "Model                        0\n",
       "Price                        0\n",
       "Rating                       0\n",
       "Has_5G                       0\n",
       "Has_NFC                      0\n",
       "Has_IR_Blaster               0\n",
       "Processor                    0\n",
       "Processor_brand              0\n",
       "num_cores                    0\n",
       "Processor_speed(GHz)        32\n",
       "Ram_capacity                 0\n",
       "Internal_storage             0\n",
       "Battery_capacity(mAh)        0\n",
       "Fast_charging(W)             0\n",
       "Screen_size(inches)          0\n",
       "Resolution(px)               0\n",
       "Refresh_rate(Hz)             0\n",
       "Num_rear_cameras             0\n",
       "Num_front_cameras            0\n",
       "Primary_rear_camera(MP)      0\n",
       "Primary_front_camera(MP)     0\n",
       "OS                           0\n",
       "Extended_memory              0\n",
       "dtype: int64"
      ]
     },
     "execution_count": 85,
     "metadata": {},
     "output_type": "execute_result"
    }
   ],
   "source": [
    "df.isnull().sum()"
   ]
  },
  {
   "cell_type": "code",
   "execution_count": 86,
   "id": "aa0d8116-916e-410d-a375-c5d6f33f7bee",
   "metadata": {},
   "outputs": [
    {
     "data": {
      "text/plain": [
       "np.int64(5)"
      ]
     },
     "execution_count": 86,
     "metadata": {},
     "output_type": "execute_result"
    }
   ],
   "source": [
    "df.duplicated().sum()"
   ]
  },
  {
   "cell_type": "code",
   "execution_count": 87,
   "id": "7c0e19fd-1da2-4b14-90be-468b320f8806",
   "metadata": {},
   "outputs": [],
   "source": [
    "df.drop_duplicates(ignore_index=True,inplace=True)"
   ]
  },
  {
   "cell_type": "code",
   "execution_count": 88,
   "id": "417c6d14-d959-4a55-891f-aff10ba8fbac",
   "metadata": {},
   "outputs": [
    {
     "data": {
      "text/plain": [
       "np.int64(0)"
      ]
     },
     "execution_count": 88,
     "metadata": {},
     "output_type": "execute_result"
    }
   ],
   "source": [
    "df.duplicated().sum()"
   ]
  },
  {
   "cell_type": "code",
   "execution_count": 89,
   "id": "46a34c3c-349b-4ecc-887d-c6ad1fb09b0f",
   "metadata": {},
   "outputs": [
    {
     "name": "stdout",
     "output_type": "stream",
     "text": [
      "<class 'pandas.core.frame.DataFrame'>\n",
      "RangeIndex: 1009 entries, 0 to 1008\n",
      "Data columns (total 24 columns):\n",
      " #   Column                    Non-Null Count  Dtype  \n",
      "---  ------                    --------------  -----  \n",
      " 0   Brand_name                1009 non-null   object \n",
      " 1   Model                     1009 non-null   object \n",
      " 2   Price                     1009 non-null   int64  \n",
      " 3   Rating                    1009 non-null   int64  \n",
      " 4   Has_5G                    1009 non-null   bool   \n",
      " 5   Has_NFC                   1009 non-null   bool   \n",
      " 6   Has_IR_Blaster            1009 non-null   bool   \n",
      " 7   Processor                 1009 non-null   object \n",
      " 8   Processor_brand           1009 non-null   object \n",
      " 9   num_cores                 1009 non-null   object \n",
      " 10  Processor_speed(GHz)      977 non-null    float64\n",
      " 11  Ram_capacity              1009 non-null   float64\n",
      " 12  Internal_storage          1009 non-null   int64  \n",
      " 13  Battery_capacity(mAh)     1009 non-null   float64\n",
      " 14  Fast_charging(W)          1009 non-null   int64  \n",
      " 15  Screen_size(inches)       1009 non-null   float64\n",
      " 16  Resolution(px)            1009 non-null   object \n",
      " 17  Refresh_rate(Hz)          1009 non-null   float64\n",
      " 18  Num_rear_cameras          1009 non-null   int64  \n",
      " 19  Num_front_cameras         1009 non-null   float64\n",
      " 20  Primary_rear_camera(MP)   1009 non-null   object \n",
      " 21  Primary_front_camera(MP)  1009 non-null   float64\n",
      " 22  OS                        1009 non-null   object \n",
      " 23  Extended_memory           1009 non-null   object \n",
      "dtypes: bool(3), float64(7), int64(5), object(9)\n",
      "memory usage: 168.6+ KB\n"
     ]
    }
   ],
   "source": [
    "df.info()"
   ]
  },
  {
   "cell_type": "code",
   "execution_count": 90,
   "id": "63affd05-e2ab-4ed1-804f-c99aa2d95ffc",
   "metadata": {},
   "outputs": [],
   "source": [
    "df['Primary_rear_camera(MP)'] = df['Primary_rear_camera(MP)'].astype(float)"
   ]
  },
  {
   "cell_type": "code",
   "execution_count": 91,
   "id": "84251ad9-8493-4f12-8288-64193941d914",
   "metadata": {},
   "outputs": [],
   "source": [
    "df['Has_5G'] = df['Has_5G'].replace(True,\"Yes\").replace(False,\"No\")"
   ]
  },
  {
   "cell_type": "code",
   "execution_count": 92,
   "id": "12518d61-ec75-4610-b78e-442b8c909a2c",
   "metadata": {},
   "outputs": [],
   "source": [
    "df['Has_NFC'] = df['Has_NFC'].replace(True,\"Yes\").replace(False,\"No\")"
   ]
  },
  {
   "cell_type": "code",
   "execution_count": 93,
   "id": "9e6c0fd8-7095-4351-991c-67ca0bbf5bbc",
   "metadata": {},
   "outputs": [],
   "source": [
    "df['Has_IR_Blaster'] = df['Has_IR_Blaster'].replace(True,\"Yes\").replace(False,\"No\")"
   ]
  },
  {
   "cell_type": "code",
   "execution_count": 94,
   "id": "0c7b5f87-9b29-472c-be2d-e4016a2b62da",
   "metadata": {},
   "outputs": [],
   "source": [
    "df['Extended_memory'] = df['Extended_memory'].str.replace(\"1 TB\",\"1024\").str.replace(\"2 TB\",\"2048\").str.replace(\"1.5 TB\",\"1536\").str.replace(\"GB\",\"\").str.replace(\"Not Specified\",\"0\").astype(int)"
   ]
  },
  {
   "cell_type": "code",
   "execution_count": 95,
   "id": "a24dbea1-0c10-4a23-aaf8-f7252e734e73",
   "metadata": {},
   "outputs": [],
   "source": [
    "pd.set_option('display.max_columns',None)"
   ]
  },
  {
   "cell_type": "code",
   "execution_count": 96,
   "id": "261fa532-7756-42f6-a709-c3b8c0d493d6",
   "metadata": {},
   "outputs": [
    {
     "data": {
      "text/html": [
       "<div>\n",
       "<style scoped>\n",
       "    .dataframe tbody tr th:only-of-type {\n",
       "        vertical-align: middle;\n",
       "    }\n",
       "\n",
       "    .dataframe tbody tr th {\n",
       "        vertical-align: top;\n",
       "    }\n",
       "\n",
       "    .dataframe thead th {\n",
       "        text-align: right;\n",
       "    }\n",
       "</style>\n",
       "<table border=\"1\" class=\"dataframe\">\n",
       "  <thead>\n",
       "    <tr style=\"text-align: right;\">\n",
       "      <th></th>\n",
       "      <th>Brand_name</th>\n",
       "      <th>Model</th>\n",
       "      <th>Price</th>\n",
       "      <th>Rating</th>\n",
       "      <th>Has_5G</th>\n",
       "      <th>Has_NFC</th>\n",
       "      <th>Has_IR_Blaster</th>\n",
       "      <th>Processor</th>\n",
       "      <th>Processor_brand</th>\n",
       "      <th>num_cores</th>\n",
       "      <th>Processor_speed(GHz)</th>\n",
       "      <th>Ram_capacity</th>\n",
       "      <th>Internal_storage</th>\n",
       "      <th>Battery_capacity(mAh)</th>\n",
       "      <th>Fast_charging(W)</th>\n",
       "      <th>Screen_size(inches)</th>\n",
       "      <th>Resolution(px)</th>\n",
       "      <th>Refresh_rate(Hz)</th>\n",
       "      <th>Num_rear_cameras</th>\n",
       "      <th>Num_front_cameras</th>\n",
       "      <th>Primary_rear_camera(MP)</th>\n",
       "      <th>Primary_front_camera(MP)</th>\n",
       "      <th>OS</th>\n",
       "      <th>Extended_memory</th>\n",
       "    </tr>\n",
       "  </thead>\n",
       "  <tbody>\n",
       "    <tr>\n",
       "      <th>0</th>\n",
       "      <td>realme</td>\n",
       "      <td>Realme P4 Pro 5G</td>\n",
       "      <td>24999</td>\n",
       "      <td>73</td>\n",
       "      <td>Yes</td>\n",
       "      <td>No</td>\n",
       "      <td>Yes</td>\n",
       "      <td>Snapdragon 7 Gen 4</td>\n",
       "      <td>snapdragon</td>\n",
       "      <td>Octa Core</td>\n",
       "      <td>NaN</td>\n",
       "      <td>8.0</td>\n",
       "      <td>128</td>\n",
       "      <td>7000.0</td>\n",
       "      <td>80</td>\n",
       "      <td>6.80</td>\n",
       "      <td>1280 x 2800</td>\n",
       "      <td>144.0</td>\n",
       "      <td>2</td>\n",
       "      <td>1.0</td>\n",
       "      <td>50.0</td>\n",
       "      <td>50.0</td>\n",
       "      <td>Android</td>\n",
       "      <td>0</td>\n",
       "    </tr>\n",
       "    <tr>\n",
       "      <th>1</th>\n",
       "      <td>realme</td>\n",
       "      <td>Realme P4 5G</td>\n",
       "      <td>18499</td>\n",
       "      <td>77</td>\n",
       "      <td>Yes</td>\n",
       "      <td>No</td>\n",
       "      <td>Yes</td>\n",
       "      <td>Dimensity 7400 Ultra</td>\n",
       "      <td>mediatek</td>\n",
       "      <td>Octa Core</td>\n",
       "      <td>2.6</td>\n",
       "      <td>6.0</td>\n",
       "      <td>128</td>\n",
       "      <td>7000.0</td>\n",
       "      <td>80</td>\n",
       "      <td>6.77</td>\n",
       "      <td>1080 x 2392</td>\n",
       "      <td>144.0</td>\n",
       "      <td>2</td>\n",
       "      <td>1.0</td>\n",
       "      <td>50.0</td>\n",
       "      <td>16.0</td>\n",
       "      <td>Android</td>\n",
       "      <td>0</td>\n",
       "    </tr>\n",
       "  </tbody>\n",
       "</table>\n",
       "</div>"
      ],
      "text/plain": [
       "  Brand_name             Model  Price  Rating Has_5G Has_NFC Has_IR_Blaster  \\\n",
       "0     realme  Realme P4 Pro 5G  24999      73    Yes      No            Yes   \n",
       "1     realme      Realme P4 5G  18499      77    Yes      No            Yes   \n",
       "\n",
       "              Processor Processor_brand  num_cores  Processor_speed(GHz)  \\\n",
       "0    Snapdragon 7 Gen 4      snapdragon  Octa Core                   NaN   \n",
       "1  Dimensity 7400 Ultra        mediatek  Octa Core                   2.6   \n",
       "\n",
       "   Ram_capacity  Internal_storage  Battery_capacity(mAh)  Fast_charging(W)  \\\n",
       "0           8.0               128                 7000.0                80   \n",
       "1           6.0               128                 7000.0                80   \n",
       "\n",
       "   Screen_size(inches) Resolution(px)  Refresh_rate(Hz)  Num_rear_cameras  \\\n",
       "0                 6.80   1280 x 2800              144.0                 2   \n",
       "1                 6.77   1080 x 2392              144.0                 2   \n",
       "\n",
       "   Num_front_cameras  Primary_rear_camera(MP)  Primary_front_camera(MP)  \\\n",
       "0                1.0                     50.0                      50.0   \n",
       "1                1.0                     50.0                      16.0   \n",
       "\n",
       "        OS  Extended_memory  \n",
       "0  Android                0  \n",
       "1  Android                0  "
      ]
     },
     "execution_count": 96,
     "metadata": {},
     "output_type": "execute_result"
    }
   ],
   "source": [
    "df.head(2)"
   ]
  },
  {
   "cell_type": "code",
   "execution_count": 97,
   "id": "1087262c-87e6-415f-ae1c-eddd9d6255da",
   "metadata": {},
   "outputs": [],
   "source": [
    "resolution_width = df['Resolution(px)'].str.split(\"x\").str.get(0).astype(\"int\")"
   ]
  },
  {
   "cell_type": "code",
   "execution_count": 98,
   "id": "ab84bf91-21fb-4895-a2a0-2d65b97d3a93",
   "metadata": {},
   "outputs": [],
   "source": [
    "df.insert(17, 'resolution_width',resolution_width)"
   ]
  },
  {
   "cell_type": "code",
   "execution_count": 99,
   "id": "446408b2-07ef-4819-bd29-3d3a56af2697",
   "metadata": {},
   "outputs": [],
   "source": [
    "resolution_height = df['Resolution(px)'].str.split(\"x\").str.get(1).astype(\"int\")"
   ]
  },
  {
   "cell_type": "code",
   "execution_count": 100,
   "id": "03b41080-f090-44e8-bb70-31474c69893e",
   "metadata": {},
   "outputs": [],
   "source": [
    "df.insert(18, 'resolution_height',resolution_height)"
   ]
  },
  {
   "cell_type": "code",
   "execution_count": 101,
   "id": "2e52c7fa-b292-4bbb-9e84-d6328bbfd05e",
   "metadata": {},
   "outputs": [
    {
     "data": {
      "text/plain": [
       "Brand_name                   0\n",
       "Model                        0\n",
       "Price                        0\n",
       "Rating                       0\n",
       "Has_5G                       0\n",
       "Has_NFC                      0\n",
       "Has_IR_Blaster               0\n",
       "Processor                    0\n",
       "Processor_brand              0\n",
       "num_cores                    0\n",
       "Processor_speed(GHz)        32\n",
       "Ram_capacity                 0\n",
       "Internal_storage             0\n",
       "Battery_capacity(mAh)        0\n",
       "Fast_charging(W)             0\n",
       "Screen_size(inches)          0\n",
       "Resolution(px)               0\n",
       "resolution_width             0\n",
       "resolution_height            0\n",
       "Refresh_rate(Hz)             0\n",
       "Num_rear_cameras             0\n",
       "Num_front_cameras            0\n",
       "Primary_rear_camera(MP)      0\n",
       "Primary_front_camera(MP)     0\n",
       "OS                           0\n",
       "Extended_memory              0\n",
       "dtype: int64"
      ]
     },
     "execution_count": 101,
     "metadata": {},
     "output_type": "execute_result"
    }
   ],
   "source": [
    "df.isnull().sum()"
   ]
  },
  {
   "cell_type": "code",
   "execution_count": 102,
   "id": "44944401-3a8e-4c8f-972b-00014aa264d8",
   "metadata": {},
   "outputs": [
    {
     "name": "stdout",
     "output_type": "stream",
     "text": [
      "<class 'pandas.core.frame.DataFrame'>\n",
      "RangeIndex: 1009 entries, 0 to 1008\n",
      "Data columns (total 26 columns):\n",
      " #   Column                    Non-Null Count  Dtype  \n",
      "---  ------                    --------------  -----  \n",
      " 0   Brand_name                1009 non-null   object \n",
      " 1   Model                     1009 non-null   object \n",
      " 2   Price                     1009 non-null   int64  \n",
      " 3   Rating                    1009 non-null   int64  \n",
      " 4   Has_5G                    1009 non-null   object \n",
      " 5   Has_NFC                   1009 non-null   object \n",
      " 6   Has_IR_Blaster            1009 non-null   object \n",
      " 7   Processor                 1009 non-null   object \n",
      " 8   Processor_brand           1009 non-null   object \n",
      " 9   num_cores                 1009 non-null   object \n",
      " 10  Processor_speed(GHz)      977 non-null    float64\n",
      " 11  Ram_capacity              1009 non-null   float64\n",
      " 12  Internal_storage          1009 non-null   int64  \n",
      " 13  Battery_capacity(mAh)     1009 non-null   float64\n",
      " 14  Fast_charging(W)          1009 non-null   int64  \n",
      " 15  Screen_size(inches)       1009 non-null   float64\n",
      " 16  Resolution(px)            1009 non-null   object \n",
      " 17  resolution_width          1009 non-null   int64  \n",
      " 18  resolution_height         1009 non-null   int64  \n",
      " 19  Refresh_rate(Hz)          1009 non-null   float64\n",
      " 20  Num_rear_cameras          1009 non-null   int64  \n",
      " 21  Num_front_cameras         1009 non-null   float64\n",
      " 22  Primary_rear_camera(MP)   1009 non-null   float64\n",
      " 23  Primary_front_camera(MP)  1009 non-null   float64\n",
      " 24  OS                        1009 non-null   object \n",
      " 25  Extended_memory           1009 non-null   int64  \n",
      "dtypes: float64(8), int64(8), object(10)\n",
      "memory usage: 205.1+ KB\n"
     ]
    }
   ],
   "source": [
    "df.info()"
   ]
  },
  {
   "cell_type": "code",
   "execution_count": 103,
   "id": "0565ac1a-0f96-489a-9cfe-7a4ede997b7b",
   "metadata": {},
   "outputs": [],
   "source": [
    "df.rename(columns = {\n",
    "    \"Brand_name\" : \"brand_name\",\n",
    "    \"Model\" : \"model\",\n",
    "    \"Price\" : \"price\",\n",
    "    \"Rating\" : \"rating\",\n",
    "    \"Has_5G\" : \"has_5g\",\n",
    "    \"Has_NFC\" : \"has_nfc\",\n",
    "    \"Has_IR_Blaster\" : \"has_ir_blaster\",\n",
    "    \"Processor\" : \"processor\",\n",
    "    \"Processor_brand\" : \"processor_brand\",\n",
    "    \"Processor_speed(GHz)\" : \"processor_speed_GHz\",\n",
    "    \"Ram_capacity\" : \"ram_capacity\",\n",
    "    \"Internal_storage\" : \"internal_storage\",\n",
    "    \"Battery_capacity(mAh)\" : \"battery_capacity_mAh\",\n",
    "    \"Fast_charging(W)\" : \"fast_charging_W\",\n",
    "    \"Screen_size(inches)\" : \"screen_size_inches\",\n",
    "    \"Refresh_rate(Hz)\" : \"refresh_rate_Hz\",\n",
    "    \"Num_rear_cameras\" : \"num_rear_cameras\",\n",
    "    \"Num_front_cameras\" : \"num_front_cameras\",\n",
    "    \"Primary_rear_camera(MP)\" : \"primary_rear_camera_mp\",\n",
    "    \"Primary_front_camera(MP)\" : \"primary_front_camera_mp\",\n",
    "    \"OS\" : \"operating_system\",\n",
    "    \"Extended_memory\" : \"extended_memory\"\n",
    "}, inplace = True)"
   ]
  },
  {
   "cell_type": "code",
   "execution_count": 104,
   "id": "cc716246-c540-4eb0-a3d5-d991d4e95343",
   "metadata": {},
   "outputs": [],
   "source": [
    "df.drop(columns = \"Resolution(px)\", inplace = True)"
   ]
  },
  {
   "cell_type": "code",
   "execution_count": 105,
   "id": "6404cd0d-f1be-4ecf-b486-dc291b730d38",
   "metadata": {},
   "outputs": [
    {
     "data": {
      "text/html": [
       "<div>\n",
       "<style scoped>\n",
       "    .dataframe tbody tr th:only-of-type {\n",
       "        vertical-align: middle;\n",
       "    }\n",
       "\n",
       "    .dataframe tbody tr th {\n",
       "        vertical-align: top;\n",
       "    }\n",
       "\n",
       "    .dataframe thead th {\n",
       "        text-align: right;\n",
       "    }\n",
       "</style>\n",
       "<table border=\"1\" class=\"dataframe\">\n",
       "  <thead>\n",
       "    <tr style=\"text-align: right;\">\n",
       "      <th></th>\n",
       "      <th>brand_name</th>\n",
       "      <th>model</th>\n",
       "      <th>price</th>\n",
       "      <th>rating</th>\n",
       "      <th>has_5g</th>\n",
       "      <th>has_nfc</th>\n",
       "      <th>has_ir_blaster</th>\n",
       "      <th>processor</th>\n",
       "      <th>processor_brand</th>\n",
       "      <th>num_cores</th>\n",
       "      <th>processor_speed_GHz</th>\n",
       "      <th>ram_capacity</th>\n",
       "      <th>internal_storage</th>\n",
       "      <th>battery_capacity_mAh</th>\n",
       "      <th>fast_charging_W</th>\n",
       "      <th>screen_size_inches</th>\n",
       "      <th>resolution_width</th>\n",
       "      <th>resolution_height</th>\n",
       "      <th>refresh_rate_Hz</th>\n",
       "      <th>num_rear_cameras</th>\n",
       "      <th>num_front_cameras</th>\n",
       "      <th>primary_rear_camera_mp</th>\n",
       "      <th>primary_front_camera_mp</th>\n",
       "      <th>operating_system</th>\n",
       "      <th>extended_memory</th>\n",
       "    </tr>\n",
       "  </thead>\n",
       "  <tbody>\n",
       "    <tr>\n",
       "      <th>0</th>\n",
       "      <td>realme</td>\n",
       "      <td>Realme P4 Pro 5G</td>\n",
       "      <td>24999</td>\n",
       "      <td>73</td>\n",
       "      <td>Yes</td>\n",
       "      <td>No</td>\n",
       "      <td>Yes</td>\n",
       "      <td>Snapdragon 7 Gen 4</td>\n",
       "      <td>snapdragon</td>\n",
       "      <td>Octa Core</td>\n",
       "      <td>NaN</td>\n",
       "      <td>8.0</td>\n",
       "      <td>128</td>\n",
       "      <td>7000.0</td>\n",
       "      <td>80</td>\n",
       "      <td>6.80</td>\n",
       "      <td>1280</td>\n",
       "      <td>2800</td>\n",
       "      <td>144.0</td>\n",
       "      <td>2</td>\n",
       "      <td>1.0</td>\n",
       "      <td>50.0</td>\n",
       "      <td>50.0</td>\n",
       "      <td>Android</td>\n",
       "      <td>0</td>\n",
       "    </tr>\n",
       "    <tr>\n",
       "      <th>1</th>\n",
       "      <td>realme</td>\n",
       "      <td>Realme P4 5G</td>\n",
       "      <td>18499</td>\n",
       "      <td>77</td>\n",
       "      <td>Yes</td>\n",
       "      <td>No</td>\n",
       "      <td>Yes</td>\n",
       "      <td>Dimensity 7400 Ultra</td>\n",
       "      <td>mediatek</td>\n",
       "      <td>Octa Core</td>\n",
       "      <td>2.6</td>\n",
       "      <td>6.0</td>\n",
       "      <td>128</td>\n",
       "      <td>7000.0</td>\n",
       "      <td>80</td>\n",
       "      <td>6.77</td>\n",
       "      <td>1080</td>\n",
       "      <td>2392</td>\n",
       "      <td>144.0</td>\n",
       "      <td>2</td>\n",
       "      <td>1.0</td>\n",
       "      <td>50.0</td>\n",
       "      <td>16.0</td>\n",
       "      <td>Android</td>\n",
       "      <td>0</td>\n",
       "    </tr>\n",
       "  </tbody>\n",
       "</table>\n",
       "</div>"
      ],
      "text/plain": [
       "  brand_name             model  price  rating has_5g has_nfc has_ir_blaster  \\\n",
       "0     realme  Realme P4 Pro 5G  24999      73    Yes      No            Yes   \n",
       "1     realme      Realme P4 5G  18499      77    Yes      No            Yes   \n",
       "\n",
       "              processor processor_brand  num_cores  processor_speed_GHz  \\\n",
       "0    Snapdragon 7 Gen 4      snapdragon  Octa Core                  NaN   \n",
       "1  Dimensity 7400 Ultra        mediatek  Octa Core                  2.6   \n",
       "\n",
       "   ram_capacity  internal_storage  battery_capacity_mAh  fast_charging_W  \\\n",
       "0           8.0               128                7000.0               80   \n",
       "1           6.0               128                7000.0               80   \n",
       "\n",
       "   screen_size_inches  resolution_width  resolution_height  refresh_rate_Hz  \\\n",
       "0                6.80              1280               2800            144.0   \n",
       "1                6.77              1080               2392            144.0   \n",
       "\n",
       "   num_rear_cameras  num_front_cameras  primary_rear_camera_mp  \\\n",
       "0                 2                1.0                    50.0   \n",
       "1                 2                1.0                    50.0   \n",
       "\n",
       "   primary_front_camera_mp operating_system  extended_memory  \n",
       "0                     50.0          Android                0  \n",
       "1                     16.0          Android                0  "
      ]
     },
     "execution_count": 105,
     "metadata": {},
     "output_type": "execute_result"
    }
   ],
   "source": [
    "df.head(2)"
   ]
  },
  {
   "cell_type": "code",
   "execution_count": 106,
   "id": "edc0ed33-41d9-4ee6-b837-cb1a01e17642",
   "metadata": {},
   "outputs": [],
   "source": [
    "df.to_csv(\"Smartphone_cleaned_v3.csv\",index=False)"
   ]
  },
  {
   "cell_type": "code",
   "execution_count": null,
   "id": "81248bc6-bd15-405b-ad99-db8b4e40e2ed",
   "metadata": {},
   "outputs": [],
   "source": []
  }
 ],
 "metadata": {
  "kernelspec": {
   "display_name": "Python [conda env:base] *",
   "language": "python",
   "name": "conda-base-py"
  },
  "language_info": {
   "codemirror_mode": {
    "name": "ipython",
    "version": 3
   },
   "file_extension": ".py",
   "mimetype": "text/x-python",
   "name": "python",
   "nbconvert_exporter": "python",
   "pygments_lexer": "ipython3",
   "version": "3.13.5"
  }
 },
 "nbformat": 4,
 "nbformat_minor": 5
}
